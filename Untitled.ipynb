{
 "cells": [
  {
   "cell_type": "code",
   "execution_count": 6,
   "metadata": {},
   "outputs": [],
   "source": [
    "#Importing Packages\n",
    "import csv\n",
    "import cv2\n",
    "import numpy as np\n",
    "from keras.models import Sequential\n",
    "from keras.layers import Flatten,Dense,Activation,Convolution2D,Cropping2D,MaxPooling2D,Lambda,Dropout\n",
    "from keras.callbacks import EarlyStopping,ModelCheckpoint\n",
    "import sklearn\n",
    "from sklearn.model_selection import train_test_split\n",
    "import matplotlib.pyplot as plt"
   ]
  },
  {
   "cell_type": "code",
   "execution_count": 7,
   "metadata": {
    "collapsed": true
   },
   "outputs": [],
   "source": [
    "samples=[]\n",
    "with open('../Data/driving_log.csv') as csvfile:\n",
    "    reader=csv.reader(csvfile)\n",
    "    for line in reader:\n",
    "        samples.append(line)\n",
    "\n",
    "train_samples, validation_samples = train_test_split(samples, test_size=0.2)"
   ]
  },
  {
   "cell_type": "code",
   "execution_count": 32,
   "metadata": {
    "collapsed": true
   },
   "outputs": [],
   "source": [
    "# images=[]\n",
    "# measurements=[]\n",
    "# for line in lines:\n",
    "    \n",
    "#     #Uncomment on AWS. To change path to work in AWS\n",
    "#     source_path=line[0]\n",
    "#     filename=source_path.split('\\\\')[-1]\n",
    "#     current_path='../Data/IMG/'+filename\n",
    "    \n",
    "#     #Read the image\n",
    "#     image=cv2.imread(current_path)\n",
    "#     image=cv2.cvtColor(image, cv2.COLOR_BGR2RGB)\n",
    "#     images.append(image)\n",
    "    \n",
    "#     #Appending the steering angles\n",
    "#     measurements.append(float(line[3]))   \n",
    "    "
   ]
  },
  {
   "cell_type": "code",
   "execution_count": 33,
   "metadata": {
    "collapsed": true
   },
   "outputs": [],
   "source": [
    "# #Convert data to numpy arrays\n",
    "# X_train=np.array(images)\n",
    "# y_train=np.array(measurements)"
   ]
  },
  {
   "cell_type": "code",
   "execution_count": 8,
   "metadata": {
    "collapsed": true
   },
   "outputs": [],
   "source": [
    "#Generator Code\n",
    "def generator(samples, batch_size):\n",
    "    num_samples = len(samples)\n",
    "    while 1: \n",
    "        sklearn.utils.shuffle(samples)\n",
    "        for offset in range(0, num_samples, batch_size):\n",
    "            batch_samples = samples[offset:offset+batch_size]\n",
    "\n",
    "            images = []\n",
    "            angles = []\n",
    "            for batch_sample in batch_samples:\n",
    "                \n",
    "                #Take center camera images\n",
    "                name = '../Data/IMG/'+batch_sample[0].split('/')[-1]\n",
    "                center_image = cv2.imread(name)\n",
    "                center_image=cv2.cvtColor(center_image, cv2.COLOR_BGR2RGB)\n",
    "                center_angle = float(batch_sample[3])\n",
    "                images.append(center_image)\n",
    "                angles.append(center_angle)\n",
    "                \n",
    "                #Take left camera images and add an angle of 0.25\n",
    "                name = '../Data/IMG/'+batch_sample[1].split('/')[-1]\n",
    "                left_image = cv2.imread(name)\n",
    "                left_image=cv2.cvtColor(left_image, cv2.COLOR_BGR2RGB)\n",
    "                left_angle = float(batch_sample[3])+0.25\n",
    "                images.append(left_image)\n",
    "                angles.append(left_angle)\n",
    "                \n",
    "                #Take right camera images and subtract an angle of 0.25\n",
    "                name = '../Data/IMG/'+batch_sample[2].split('/')[-1]\n",
    "                right_image = cv2.imread(name)\n",
    "                right_image=cv2.cvtColor(right_image, cv2.COLOR_BGR2RGB)\n",
    "                right_angle = float(batch_sample[3])-0.25\n",
    "                images.append(right_image)\n",
    "                angles.append(right_angle)\n",
    "                \n",
    "#                 #Horizontal flipped image from the center camera\n",
    "#                 horizontal_image = cv2.flip(center_image,1)\n",
    "#                 images.append(horizontal_image)\n",
    "#                 angles.append(center_angle*-1)\n",
    "                \n",
    "                #Horizontal flipped image from the left camera\n",
    "                horizontal_left_image = cv2.flip(left_image,1)\n",
    "                images.append(horizontal_left_image)\n",
    "                angles.append(left_angle*-1)\n",
    "                \n",
    "                #Horizontal flipped image from the right camera\n",
    "                horizontal_right_image = cv2.flip(right_image,1)\n",
    "                images.append(horizontal_right_image)\n",
    "                angles.append(right_angle*-1)\n",
    "\n",
    "            # trim image to only see section with road\n",
    "            X_train = np.array(images)\n",
    "            y_train = np.array(angles)\n",
    "            yield sklearn.utils.shuffle(X_train, y_train)"
   ]
  },
  {
   "cell_type": "code",
   "execution_count": 9,
   "metadata": {
    "collapsed": true
   },
   "outputs": [],
   "source": [
    "#Generators to fetch training and validation datasets\n",
    "train_generator = generator(train_samples, batch_size=32)\n",
    "validation_generator = generator(validation_samples, batch_size=32)\n"
   ]
  },
  {
   "cell_type": "code",
   "execution_count": 10,
   "metadata": {},
   "outputs": [
    {
     "name": "stdout",
     "output_type": "stream",
     "text": [
      "____________________________________________________________________________________________________\n",
      "Layer (type)                     Output Shape          Param #     Connected to                     \n",
      "====================================================================================================\n",
      "lambda_2 (Lambda)                (None, 160, 320, 3)   0           lambda_input_2[0][0]             \n",
      "____________________________________________________________________________________________________\n",
      "cropping2d_2 (Cropping2D)        (None, 90, 320, 3)    0           lambda_2[0][0]                   \n",
      "____________________________________________________________________________________________________\n",
      "convolution2d_3 (Convolution2D)  (None, 86, 316, 6)    456         cropping2d_2[0][0]               \n",
      "____________________________________________________________________________________________________\n",
      "activation_5 (Activation)        (None, 86, 316, 6)    0           convolution2d_3[0][0]            \n",
      "____________________________________________________________________________________________________\n",
      "maxpooling2d_3 (MaxPooling2D)    (None, 43, 158, 6)    0           activation_5[0][0]               \n",
      "____________________________________________________________________________________________________\n",
      "convolution2d_4 (Convolution2D)  (None, 39, 154, 16)   2416        maxpooling2d_3[0][0]             \n",
      "____________________________________________________________________________________________________\n",
      "activation_6 (Activation)        (None, 39, 154, 16)   0           convolution2d_4[0][0]            \n",
      "____________________________________________________________________________________________________\n",
      "maxpooling2d_4 (MaxPooling2D)    (None, 19, 77, 16)    0           activation_6[0][0]               \n",
      "____________________________________________________________________________________________________\n",
      "flatten_2 (Flatten)              (None, 23408)         0           maxpooling2d_4[0][0]             \n",
      "____________________________________________________________________________________________________\n",
      "dense_4 (Dense)                  (None, 120)           2809080     flatten_2[0][0]                  \n",
      "____________________________________________________________________________________________________\n",
      "activation_7 (Activation)        (None, 120)           0           dense_4[0][0]                    \n",
      "____________________________________________________________________________________________________\n",
      "dropout_3 (Dropout)              (None, 120)           0           activation_7[0][0]               \n",
      "____________________________________________________________________________________________________\n",
      "dense_5 (Dense)                  (None, 30)            3630        dropout_3[0][0]                  \n",
      "____________________________________________________________________________________________________\n",
      "activation_8 (Activation)        (None, 30)            0           dense_5[0][0]                    \n",
      "____________________________________________________________________________________________________\n",
      "dropout_4 (Dropout)              (None, 30)            0           activation_8[0][0]               \n",
      "____________________________________________________________________________________________________\n",
      "dense_6 (Dense)                  (None, 1)             31          dropout_4[0][0]                  \n",
      "====================================================================================================\n",
      "Total params: 2,815,613\n",
      "Trainable params: 2,815,613\n",
      "Non-trainable params: 0\n",
      "____________________________________________________________________________________________________\n"
     ]
    }
   ],
   "source": [
    "#Define the network\n",
    "model=Sequential()\n",
    "\n",
    "#Normalising the data\n",
    "model.add(Lambda(lambda x: (x /255)-0.5,input_shape=(160,320,3)))\n",
    "\n",
    "#Cropping unwanted pixels off the images\n",
    "model.add(Cropping2D(cropping=((50,20),(0,0))))\n",
    "          \n",
    "model.add(Convolution2D(6,5,5))\n",
    "model.add(Activation('relu'))\n",
    "model.add(MaxPooling2D((2,2)))\n",
    "model.add(Convolution2D(16,5,5))\n",
    "model.add(Activation('relu'))\n",
    "model.add(MaxPooling2D((2,2)))\n",
    "model.add(Flatten())\n",
    "model.add(Dense(120))\n",
    "model.add(Activation('relu'))\n",
    "model.add(Dropout(0.5))\n",
    "model.add(Dense(84))\n",
    "model.add(Activation('relu'))\n",
    "model.add(Dropout(0.5))\n",
    "model.add(Dense(1))\n",
    "\n",
    "#load previous model weights and initialise\n",
    "#model.load_weights(\"model.h5\")\n",
    "\n",
    "model.compile(loss='mse', optimizer='adam',metrics=['accuracy'])\n",
    "model.summary()\n",
    "\n"
   ]
  },
  {
   "cell_type": "code",
   "execution_count": 14,
   "metadata": {},
   "outputs": [
    {
     "name": "stdout",
     "output_type": "stream",
     "text": [
      "Epoch 1/30\n",
      "6400/6428 [============================>.] - ETA: 0s - loss: 0.0144 - acc: 0.1020"
     ]
    },
    {
     "name": "stderr",
     "output_type": "stream",
     "text": [
      "/home/carnd/anaconda3/envs/carnd-term1/lib/python3.5/site-packages/keras/engine/training.py:1569: UserWarning: Epoch comprised more than `samples_per_epoch` samples, which might affect learning results. Set `samples_per_epoch` correctly to avoid this warning.\n",
      "  warnings.warn('Epoch comprised more than '\n"
     ]
    },
    {
     "name": "stdout",
     "output_type": "stream",
     "text": [
      "6560/6428 [==============================] - 15s - loss: 0.0145 - acc: 0.1021 - val_loss: 0.0123 - val_acc: 0.1080\n",
      "Epoch 2/30\n",
      "6540/6428 [==============================] - 15s - loss: 0.0137 - acc: 0.1104 - val_loss: 0.0155 - val_acc: 0.1091\n",
      "Epoch 3/30\n",
      "6560/6428 [==============================] - 15s - loss: 0.0141 - acc: 0.1091 - val_loss: 0.0129 - val_acc: 0.1074\n",
      "Epoch 4/30\n",
      "6560/6428 [==============================] - 15s - loss: 0.0140 - acc: 0.1073 - val_loss: 0.0142 - val_acc: 0.1057\n",
      "Epoch 5/30\n",
      "6560/6428 [==============================] - 15s - loss: 0.0132 - acc: 0.1136 - val_loss: 0.0156 - val_acc: 0.1063\n",
      "Epoch 6/30\n",
      "6560/6428 [==============================] - 15s - loss: 0.0145 - acc: 0.1041 - val_loss: 0.0115 - val_acc: 0.1119\n",
      "Epoch 7/30\n",
      "6540/6428 [==============================] - 15s - loss: 0.0133 - acc: 0.1089 - val_loss: 0.0128 - val_acc: 0.1006\n",
      "Epoch 8/30\n",
      "6560/6428 [==============================] - 15s - loss: 0.0135 - acc: 0.1099 - val_loss: 0.0134 - val_acc: 0.1074\n",
      "Epoch 9/30\n",
      "6560/6428 [==============================] - 15s - loss: 0.0132 - acc: 0.1082 - val_loss: 0.0113 - val_acc: 0.1165\n",
      "Epoch 10/30\n",
      "6560/6428 [==============================] - 15s - loss: 0.0127 - acc: 0.1120 - val_loss: 0.0139 - val_acc: 0.1000\n",
      "Epoch 11/30\n",
      "6560/6428 [==============================] - 15s - loss: 0.0140 - acc: 0.1047 - val_loss: 0.0124 - val_acc: 0.1108\n",
      "Epoch 12/30\n",
      "6540/6428 [==============================] - 15s - loss: 0.0131 - acc: 0.1083 - val_loss: 0.0119 - val_acc: 0.1183\n",
      "Epoch 13/30\n",
      "6560/6428 [==============================] - 15s - loss: 0.0132 - acc: 0.1091 - val_loss: 0.0165 - val_acc: 0.0994\n",
      "Epoch 14/30\n",
      "6560/6428 [==============================] - 15s - loss: 0.0131 - acc: 0.1096 - val_loss: 0.0124 - val_acc: 0.1119\n",
      "Epoch 15/30\n",
      "6560/6428 [==============================] - 15s - loss: 0.0124 - acc: 0.1120 - val_loss: 0.0146 - val_acc: 0.1110\n"
     ]
    }
   ],
   "source": [
    "early_stopping=EarlyStopping(patience=5)\n",
    "check_point=ModelCheckpoint(\"model.h5\",save_best_only=True)\n",
    "          \n",
    "history=model.fit_generator(train_generator, samples_per_epoch= len(train_samples), validation_data=validation_generator,nb_val_samples=len(validation_samples), nb_epoch=30, callbacks=[early_stopping,check_point])\n",
    "\n",
    "#model.save('model.h5')"
   ]
  },
  {
   "cell_type": "code",
   "execution_count": 15,
   "metadata": {},
   "outputs": [
    {
     "data": {
      "image/png": "[encoded data removed]",
      "text/plain": [
       "<matplotlib.figure.Figure at 0x7f80778e9e80>"
      ]
     },
     "metadata": {},
     "output_type": "display_data"
    }
   ],
   "source": [
    "plt.plot(history.history['loss'])\n",
    "plt.plot(history.history['val_loss'])\n",
    "plt.title('Loss plot')\n",
    "plt.ylabel('loss')\n",
    "plt.xlabel('epoch')\n",
    "plt.legend(['train', 'test'], loc='upper left')\n",
    "plt.show()"
   ]
  },
  {
   "cell_type": "code",
   "execution_count": null,
   "metadata": {
    "collapsed": true
   },
   "outputs": [],
   "source": []
  },
  {
   "cell_type": "markdown",
   "metadata": {},
   "source": [
    "# **Behavioral Cloning** \n",
    "\n",
    "## Writeup\n",
    "\n",
    "---\n",
    "\n",
    "**Behavioral Cloning Project**\n",
    "\n",
    "The goals / steps of this project are the following:\n",
    "* Use the simulator to collect data of good driving behavior\n",
    "* Build a convolution neural network in Keras that predicts steering angles from images\n",
    "* Train and validate the model with a training and validation set\n",
    "* Test that the model successfully drives around track one without leaving the road\n",
    "* Summarize the results with a written report\n",
    "\n",
    "## Rubric Points\n",
    "### Here I will consider the [rubric points](https://review.udacity.com/#!/rubrics/432/view) individually and describe how I addressed each point in my implementation.  \n",
    "\n",
    "---\n",
    "### Files Submitted & Code Quality\n",
    "\n",
    "#### 1. Submission includes all required files and can be used to run the simulator in autonomous mode\n",
    "\n",
    "My project includes the following files:\n",
    "* model.py containing the script to create and train the model\n",
    "* drive.py for driving the car in autonomous mode\n",
    "* model.h5 containing a trained convolution neural network \n",
    "* writeup_report.md summarizing the results\n",
    "* video.mp4 containing the recording of the vehicle driving autonomously for one lap around the track.\n",
    "\n",
    "#### 2. Submission includes functional code\n",
    "Using the Udacity provided simulator and my drive.py file, the car can be driven autonomously around the track by executing \n",
    "```\n",
    "python drive.py model.h5\n",
    "```\n",
    "\n",
    "#### 3. Submission code is usable and readable\n",
    "\n",
    "The model.py file contains the code for training and saving the convolution neural network. The file shows the pipeline I used for training and validating the model, and it contains comments to explain how the code works.\n",
    "\n",
    "### Model Architecture and Training Strategy\n",
    "\n",
    "#### 1. An appropriate model architecture has been employed\n",
    "\n",
    "My model consists of two convolution neural networks with 5x5 filter sizes and depths of 6 and 16 each (model.py lines 93-97). The model also has three fully connected layers after the convolutional network layes.\n",
    "\n",
    "The model includes RELU layers to introduce nonlinearity (code line 94,98,104,108), and the data is normalized in the model using a Keras lambda layer (code line 87). The model also crops the images using the Keras Cropping 2D layer (code line 90).\n",
    "\n",
    "#### 2. Attempts to reduce overfitting in the model\n",
    "\n",
    "The model contains dropout layers after the first two fully connected layers in order to reduce overfitting (model.py lines 105,109). By using the dropout layers, the validation loss was decreased and came close to the training loss than before the dropout was used.\n",
    "\n",
    "The model was trained and validated on different data sets to ensure that the model was not overfitting (code line 20). The model was tested by running it through the simulator and ensuring that the vehicle could stay on the track.\n",
    "\n",
    "#### 3. Model parameter tuning\n",
    "\n",
    "The model used an adam optimizer, so the learning rate was not tuned manually (model.py line 114).\n",
    "\n",
    "#### 4. Appropriate training data\n",
    "\n",
    "Training data was chosen to keep the vehicle driving on the road. I used a combination of center lane driving, recovering from the left and right sides of the road and includes the recovery from the edges of the curves back to the center of the road. \n",
    "\n",
    "![Curve recording](./Images/Curve.jpg)\n",
    "![Recovery recording](./Images/Recovery_from_sides.jpg)\n",
    "\n",
    "For details about how I created the training data, see the next section. \n",
    "\n",
    "### Model Architecture and Training Strategy\n",
    "\n",
    "#### 1. Solution Design Approach\n",
    "\n",
    "The overall strategy for deriving a model architecture was to make the car drive autonomously in the track without it going out of the drivable area. The model was derived by minimizing the loss as much as possible for achieving this.\n",
    "\n",
    "In order to gauge how well the model was working, I split my image and steering angle data into a training and validation set. Also, I selected mean squared error as the loss function, since this problem is of regression type.\n",
    "\n",
    "My first step was to use a simple network with a single convolutional network and two dense layers. This resulted in a high testing and validation loss. Also, the car in autonomous mode kept going out of the road in the beginning itself. Inorder to reduce the loss further to a minimal value, I added one more convolutional layer and a fully connected layer to the model. This resulted in a low loss value on the training data set but a high loss value on the validation data set. This implied that the model was overfitting. I added dropout layers with a keep_prob of 50% to the first two dense layers. This helped to mitigate overfitting and the validation loss came to a very low value.\n",
    "\n",
    "The final step was to run the simulator to see how well the car was driving around track one. The car ran pretty well in the straight road but was having more bias to turn left and then recover. This was due to the fact that the track used for training the car had more left curves than the right. Inorder to solve this, I augmented the data. I used techniques of flipping the images and using the data from the left and right camera images. The validation loss decreased further after this.\n",
    "\n",
    "At the end of the process, the vehicle is able to drive autonomously around the track without leaving the road.\n",
    "\n",
    "#### 2. Final Model Architecture\n",
    "\n",
    "My model consists of two convolutional neural network layers followed by three fully connected layers.\n",
    "\n",
    "The data is normalized in the beginning of the model using a Keras lambda layer (model.py line 87) and is cropped using the Keras Cropping2D layer. The cropping is done so that only the part of the image which contains the road is taken for training and it helped in speeding up the training process as well.\n",
    "\n",
    "The convolution neural networks have 5x5 filter sizes and depths of 6 and 16 respectively in each layer (code lines 93-97).\n",
    "\n",
    "The output from the convolutional layers are flattened and are passed on to the three fully connected layers. The final output of these fully connected layers predicts the final steering angle.\n",
    "\n",
    "The model also includes RELU layers  after the first four layers to introduce nonlinearity (code line 94,98,104,108).\n",
    "\n",
    "The below table shows the summary of the model used.\n",
    "![Model Visualization](./Images/Model_Summary.png)\n",
    "\n",
    "#### 3. Creation of the Training Set & Training Process\n",
    "\n",
    "To capture good driving behavior, I first recorded a lap on track one using center lane driving. Here is an example image of center lane driving:\n",
    "\n",
    "![Center Lane Driving](./Images/center_lane.jpg)\n",
    "\n",
    "I then recorded the vehicle recovering from the left side and right sides of the road back to center so that the vehicle would learn to recover back to the center. The below images show what a recovery looks like.\n",
    "\n",
    "![Recovery 1](./Images/recovery1.jpg)\n",
    "![Recovery 2](./Images/recovery2.jpg)\n",
    "![Recovery 3](./Images/recovery3.jpg)\n",
    "\n",
    "The data set was randomly shuffled and 20% of the data was put aside for the validation set. \n",
    "\n",
    "To augment the data sat, I flipped images and angles. This was done because the track had more left turns than right curves. The images from the left and right cameras were taken and these were flipped. A coorection value of 0.25 was added for the angles from the left image and was subtracted for the angles for the right image. This method helped in balancing the dataset. For example, here is an image that has then been flipped:\n",
    "\n",
    "![Original image](./Images/left_orig.jpg)\n",
    "![Flipped image](./Images/left_flip.jpg)\n",
    "\n",
    "A python generator was used for passing the images to the network for training. The augmentation was done on the images in each batch. \n",
    "\n",
    "I had preprocessed the data by normalising the data and cropping it using Keras layers. The cropping was done so that only the information related to the road were used by the neural network to train.\n",
    "\n",
    "The above steps created 40640 number of data points. I used this training data for training the model. The validation set helped determine if the model was over or under fitting. The ideal number of epochs was around 30 as the loss kept on decreasing after that. I used the Keras callback utilities, the EarlyStopping and the ModelCheckpoint, so that the beast model was saved and the training was stopped if no improvement was found in the next 5 epochs. I used an adam optimizer so that manually training the learning rate wasn't necessary.\n"
   ]
  },
  {
   "cell_type": "code",
   "execution_count": null,
   "metadata": {},
   "outputs": [],
   "source": []
  },
  {
   "cell_type": "code",
   "execution_count": null,
   "metadata": {},
   "outputs": [],
   "source": []
  }
 ],
 "metadata": {
  "anaconda-cloud": {},
  "kernelspec": {
   "display_name": "Python 3",
   "language": "python",
   "name": "python3"
  },
  "language_info": {
   "codemirror_mode": {
    "name": "ipython",
    "version": 3
   },
   "file_extension": ".py",
   "mimetype": "text/x-python",
   "name": "python",
   "nbconvert_exporter": "python",
   "pygments_lexer": "ipython3",
   "version": "3.5.2"
  },
  "widgets": {
   "state": {},
   "version": "1.1.2"
  }
 },
 "nbformat": 4,
 "nbformat_minor": 2
}
