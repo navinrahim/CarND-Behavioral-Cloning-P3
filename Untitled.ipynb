{
 "cells": [
  {
   "cell_type": "code",
   "execution_count": 2,
   "metadata": {},
   "outputs": [
    {
     "name": "stderr",
     "output_type": "stream",
     "text": [
      "Using TensorFlow backend.\n",
      "C:\\Users\\navin.rawther\\AppData\\Local\\Continuum\\Miniconda3\\envs\\carnd-term1\\lib\\site-packages\\h5py\\__init__.py:36: FutureWarning: Conversion of the second argument of issubdtype from `float` to `np.floating` is deprecated. In future, it will be treated as `np.float64 == np.dtype(float).type`.\n",
      "  from ._conv import register_converters as _register_converters\n"
     ]
    }
   ],
   "source": [
    "#Importing Packages\n",
    "import csv\n",
    "import cv2\n",
    "import numpy as np\n",
    "from keras.models import Sequential\n",
    "from keras.layers import Flatten,Dense,Activation,Convolution2D,Cropping2D,MaxPooling2D\n",
    "import sklearn\n",
    "from sklearn.model_selection import train_test_split"
   ]
  },
  {
   "cell_type": "code",
   "execution_count": 28,
   "metadata": {},
   "outputs": [],
   "source": [
    "samples=[]\n",
    "with open('../Data/driving_log.csv') as csvfile:\n",
    "    reader=csv.reader(csvfile)\n",
    "    for line in reader:\n",
    "        samples.append(line)\n",
    "\n",
    "train_samples, validation_samples = train_test_split(samples, test_size=0.2)"
   ]
  },
  {
   "cell_type": "code",
   "execution_count": 32,
   "metadata": {},
   "outputs": [],
   "source": [
    "# images=[]\n",
    "# measurements=[]\n",
    "# for line in lines:\n",
    "    \n",
    "#     #Uncomment on AWS. To change path to work in AWS\n",
    "#     source_path=line[0]\n",
    "#     filename=source_path.split('\\\\')[-1]\n",
    "#     current_path='../Data/IMG/'+filename\n",
    "    \n",
    "#     #Read the image\n",
    "#     image=cv2.imread(current_path)\n",
    "#     image=cv2.cvtColor(image, cv2.COLOR_BGR2RGB)\n",
    "#     images.append(image)\n",
    "    \n",
    "#     #Appending the steering angles\n",
    "#     measurements.append(float(line[3]))    \n",
    "    "
   ]
  },
  {
   "cell_type": "code",
   "execution_count": 33,
   "metadata": {},
   "outputs": [],
   "source": [
    "# #Convert data to numpy arrays\n",
    "# X_train=np.array(images)\n",
    "# y_train=np.array(measurements)"
   ]
  },
  {
   "cell_type": "code",
   "execution_count": null,
   "metadata": {},
   "outputs": [],
   "source": [
    "#Generator Code\n",
    "def generator(samples, batch_size=32):\n",
    "    num_samples = len(samples)\n",
    "    while 1: \n",
    "        shuffle(samples)\n",
    "        for offset in range(0, num_samples, batch_size):\n",
    "            batch_samples = samples[offset:offset+batch_size]\n",
    "\n",
    "            images = []\n",
    "            angles = []\n",
    "            for batch_sample in batch_samples:\n",
    "                name = './IMG/'+batch_sample[0].split('/')[-1]\n",
    "                center_image = cv2.imread(name)\n",
    "                center_image=cv2.cvtColor(center_image, cv2.COLOR_BGR2RGB)\n",
    "                center_angle = float(batch_sample[3])\n",
    "                images.append(center_image)\n",
    "                angles.append(center_angle)\n",
    "\n",
    "            # trim image to only see section with road\n",
    "            X_train = np.array(images)\n",
    "            y_train = np.array(angles)\n",
    "            yield sklearn.utils.shuffle(X_train, y_train)"
   ]
  },
  {
   "cell_type": "code",
   "execution_count": null,
   "metadata": {},
   "outputs": [],
   "source": [
    "#Generators to fetch training and validation datasets\n",
    "train_generator = generator(train_samples, batch_size=32)\n",
    "validation_generator = generator(validation_samples, batch_size=32)\n"
   ]
  },
  {
   "cell_type": "code",
   "execution_count": 36,
   "metadata": {},
   "outputs": [
    {
     "name": "stdout",
     "output_type": "stream",
     "text": [
      "Train on 3749 samples, validate on 938 samples\n",
      "Epoch 1/7\n",
      "3749/3749 [==============================] - 5s - loss: 15519390.7147 - acc: 5.3348e-04 - val_loss: 13952.0735 - val_acc: 0.0032\n",
      "Epoch 2/7\n",
      "3749/3749 [==============================] - 5s - loss: 7999.7190 - acc: 0.0043 - val_loss: 7327.9660 - val_acc: 0.0043\n",
      "Epoch 3/7\n",
      "3749/3749 [==============================] - 5s - loss: 4265.3222 - acc: 0.0037 - val_loss: 6173.7676 - val_acc: 0.0032\n",
      "Epoch 4/7\n",
      "3749/3749 [==============================] - 6s - loss: 2747.3110 - acc: 0.0056 - val_loss: 3449.0296 - val_acc: 0.0053\n",
      "Epoch 5/7\n",
      "3749/3749 [==============================] - 6s - loss: 2106.7568 - acc: 0.0117 - val_loss: 3332.3440 - val_acc: 0.0043\n",
      "Epoch 6/7\n",
      "3749/3749 [==============================] - 5s - loss: 1753.2950 - acc: 0.0072 - val_loss: 2637.3367 - val_acc: 0.0032\n",
      "Epoch 7/7\n",
      "3749/3749 [==============================] - 6s - loss: 1564.1299 - acc: 0.0067 - val_loss: 5965.9095 - val_acc: 0.0043\n"
     ]
    }
   ],
   "source": [
    "#Define the network\n",
    "model=Sequential()\n",
    "\n",
    "#Normalising the data\n",
    "model.add(Lambda(lambda x: (x /255)-0.5,input_shape=(160,320,3))\n",
    "\n",
    "#Cropping unwanted pixels off the images\n",
    "model.add(Cropping2D(cropping=(50,20),(0,0)))\n",
    "          \n",
    "model.add(Convolution2D(6,5,5))\n",
    "model.add('relu')\n",
    "model.add(MaxPooling2D((2,2)))\n",
    "model.add(Convolution2D(16,5,5))\n",
    "model.add('relu')\n",
    "model.add(MaxPooling2D((2,2)))\n",
    "model.add(Flatten())\n",
    "model.add(Dense(120))\n",
    "model.add('relu')\n",
    "model.add(Dropout(0.5))\n",
    "model.add(Dense(120))\n",
    "model.add('relu')\n",
    "model.add(Dense(120))\n",
    "\n",
    "          \n",
    "\n",
    "model.compile(loss='mse', optimizer='adam',metrics=['accuracy'])\n",
    "          \n",
    "model.fit_generator(train_generator, samples_per_epoch= len(train_samples), validation_data=validation_generator, /\n",
    "nb_val_samples=len(validation_samples), nb_epoch=3)\n",
    "\n",
    "model.fit(X_train,y_train,validation_split=0.2,shuffle=True,nb_epoch=7)\n",
    "model.save('model.h5')"
   ]
  },
  {
   "cell_type": "code",
   "execution_count": null,
   "metadata": {},
   "outputs": [],
   "source": []
  }
 ],
 "metadata": {
  "kernelspec": {
   "display_name": "Python 3",
   "language": "python",
   "name": "python3"
  },
  "language_info": {
   "codemirror_mode": {
    "name": "ipython",
    "version": 3
   },
   "file_extension": ".py",
   "mimetype": "text/x-python",
   "name": "python",
   "nbconvert_exporter": "python",
   "pygments_lexer": "ipython3",
   "version": "3.5.2"
  },
  "widgets": {
   "state": {},
   "version": "1.1.2"
  }
 },
 "nbformat": 4,
 "nbformat_minor": 2
}
