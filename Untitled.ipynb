{
 "cells": [
  {
   "cell_type": "code",
   "execution_count": 23,
   "metadata": {},
   "outputs": [],
   "source": [
    "#Importing Packages\n",
    "import csv\n",
    "import cv2\n",
    "import numpy as np\n",
    "from keras.models import Sequential\n",
    "from keras.layers import Flatten,Dense,Activation,Convolution2D,Cropping2D,MaxPooling2D,Lambda,Dropout\n",
    "from keras.callbacks import EarlyStopping,ModelCheckpoint\n",
    "import sklearn\n",
    "from sklearn.model_selection import train_test_split"
   ]
  },
  {
   "cell_type": "code",
   "execution_count": 24,
   "metadata": {},
   "outputs": [],
   "source": [
    "samples=[]\n",
    "with open('../Data/driving_log_udacity.csv') as csvfile:\n",
    "    reader=csv.reader(csvfile)\n",
    "    for line in reader:\n",
    "        samples.append(line)\n",
    "\n",
    "train_samples, validation_samples = train_test_split(samples, test_size=0.2)"
   ]
  },
  {
   "cell_type": "code",
   "execution_count": 32,
   "metadata": {
    "collapsed": true
   },
   "outputs": [],
   "source": [
    "# images=[]\n",
    "# measurements=[]\n",
    "# for line in lines:\n",
    "    \n",
    "#     #Uncomment on AWS. To change path to work in AWS\n",
    "#     source_path=line[0]\n",
    "#     filename=source_path.split('\\\\')[-1]\n",
    "#     current_path='../Data/IMG/'+filename\n",
    "    \n",
    "#     #Read the image\n",
    "#     image=cv2.imread(current_path)\n",
    "#     image=cv2.cvtColor(image, cv2.COLOR_BGR2RGB)\n",
    "#     images.append(image)\n",
    "    \n",
    "#     #Appending the steering angles\n",
    "#     measurements.append(float(line[3]))    \n",
    "    "
   ]
  },
  {
   "cell_type": "code",
   "execution_count": 33,
   "metadata": {
    "collapsed": true
   },
   "outputs": [],
   "source": [
    "# #Convert data to numpy arrays\n",
    "# X_train=np.array(images)\n",
    "# y_train=np.array(measurements)"
   ]
  },
  {
   "cell_type": "code",
   "execution_count": 28,
   "metadata": {
    "collapsed": true
   },
   "outputs": [],
   "source": [
    "#Generator Code\n",
    "def generator(samples, batch_size=32):\n",
    "    num_samples = len(samples)\n",
    "    while 1: \n",
    "        sklearn.utils.shuffle(samples)\n",
    "        for offset in range(0, num_samples, batch_size):\n",
    "            batch_samples = samples[offset:offset+batch_size]\n",
    "\n",
    "            images = []\n",
    "            angles = []\n",
    "            for batch_sample in batch_samples:\n",
    "                \n",
    "                #Take center camera images\n",
    "                name = '../Data/IMG/'+batch_sample[0].split('\\\\')[-1]\n",
    "                center_image = cv2.imread(name)\n",
    "                center_image=cv2.cvtColor(center_image, cv2.COLOR_BGR2RGB)\n",
    "                center_angle = float(batch_sample[3])\n",
    "                images.append(center_image)\n",
    "                angles.append(center_angle)\n",
    "                \n",
    "                #Take left camera images and add an angle of 0.25\n",
    "                name = '../Data/IMG/'+batch_sample[1].split('\\\\')[-1]\n",
    "                left_image = cv2.imread(name)\n",
    "                left_image=cv2.cvtColor(left_image, cv2.COLOR_BGR2RGB)\n",
    "                left_angle = float(batch_sample[3])+0.25\n",
    "                images.append(left_image)\n",
    "                angles.append(left_angle)\n",
    "                \n",
    "                #Take right camera images and subtract an angle of 0.25\n",
    "                name = '../Data/IMG/'+batch_sample[2].split('\\\\')[-1]\n",
    "                right_image = cv2.imread(name)\n",
    "                right_image=cv2.cvtColor(right_image, cv2.COLOR_BGR2RGB)\n",
    "                right_angle = float(batch_sample[3])-0.25\n",
    "                images.append(right_image)\n",
    "                angles.append(right_angle)\n",
    "                \n",
    "                #Horizontal flipped image from the center camera\n",
    "                horizontal_image = cv2.flip(center_image,0)\n",
    "                images.append(horizontal_image)\n",
    "                angles.append(center_angle*-1)\n",
    "\n",
    "            # trim image to only see section with road\n",
    "            X_train = np.array(images)\n",
    "            y_train = np.array(angles)\n",
    "            yield sklearn.utils.shuffle(X_train, y_train)"
   ]
  },
  {
   "cell_type": "code",
   "execution_count": 29,
   "metadata": {
    "collapsed": true
   },
   "outputs": [],
   "source": [
    "#Generators to fetch training and validation datasets\n",
    "train_generator = generator(train_samples, batch_size=32)\n",
    "validation_generator = generator(validation_samples, batch_size=32)\n"
   ]
  },
  {
   "cell_type": "code",
   "execution_count": 30,
   "metadata": {},
   "outputs": [
    {
     "name": "stdout",
     "output_type": "stream",
     "text": [
      "Epoch 1/30\n",
      "12800/12857 [============================>.] - ETA: 0s - loss: 0.0705"
     ]
    },
    {
     "name": "stderr",
     "output_type": "stream",
     "text": [
      "/home/carnd/anaconda3/envs/carnd-term1/lib/python3.5/site-packages/keras/engine/training.py:1569: UserWarning: Epoch comprised more than `samples_per_epoch` samples, which might affect learning results. Set `samples_per_epoch` correctly to avoid this warning.\n",
      "  warnings.warn('Epoch comprised more than '\n"
     ]
    },
    {
     "name": "stdout",
     "output_type": "stream",
     "text": [
      "12928/12857 [==============================] - 31s - loss: 0.0702 - val_loss: 0.0335\n",
      "Epoch 2/30\n",
      "12928/12857 [==============================] - 30s - loss: 0.0308 - val_loss: 0.0226\n",
      "Epoch 3/30\n",
      "12928/12857 [==============================] - 30s - loss: 0.0260 - val_loss: 0.0200\n",
      "Epoch 4/30\n",
      "12900/12857 [==============================] - 30s - loss: 0.0236 - val_loss: 0.0192\n",
      "Epoch 5/30\n",
      "12928/12857 [==============================] - 30s - loss: 0.0221 - val_loss: 0.0165\n",
      "Epoch 6/30\n",
      "12928/12857 [==============================] - 30s - loss: 0.0202 - val_loss: 0.0143\n",
      "Epoch 7/30\n",
      "12928/12857 [==============================] - 30s - loss: 0.0179 - val_loss: 0.0119\n",
      "Epoch 8/30\n",
      "12900/12857 [==============================] - 30s - loss: 0.0166 - val_loss: 0.0133\n",
      "Epoch 9/30\n",
      "12928/12857 [==============================] - 30s - loss: 0.0171 - val_loss: 0.0138\n",
      "Epoch 10/30\n",
      "12928/12857 [==============================] - 30s - loss: 0.0159 - val_loss: 0.0099\n",
      "Epoch 11/30\n",
      "12928/12857 [==============================] - 30s - loss: 0.0152 - val_loss: 0.0117\n",
      "Epoch 12/30\n",
      "12900/12857 [==============================] - 30s - loss: 0.0142 - val_loss: 0.0107\n",
      "Epoch 13/30\n",
      "12928/12857 [==============================] - 30s - loss: 0.0152 - val_loss: 0.0106\n",
      "Epoch 14/30\n",
      "12928/12857 [==============================] - 30s - loss: 0.0147 - val_loss: 0.0107\n",
      "Epoch 15/30\n",
      "12928/12857 [==============================] - 30s - loss: 0.0137 - val_loss: 0.0097\n",
      "Epoch 16/30\n",
      "12900/12857 [==============================] - 31s - loss: 0.0132 - val_loss: 0.0109\n",
      "Epoch 17/30\n",
      "12928/12857 [==============================] - 30s - loss: 0.0140 - val_loss: 0.0083\n",
      "Epoch 18/30\n",
      "12928/12857 [==============================] - 30s - loss: 0.0131 - val_loss: 0.0116\n",
      "Epoch 19/30\n",
      "12928/12857 [==============================] - 30s - loss: 0.0129 - val_loss: 0.0091\n",
      "Epoch 20/30\n",
      "12900/12857 [==============================] - 30s - loss: 0.0120 - val_loss: 0.0092\n",
      "Epoch 21/30\n",
      "12928/12857 [==============================] - 30s - loss: 0.0133 - val_loss: 0.0106\n",
      "Epoch 22/30\n",
      "12928/12857 [==============================] - 30s - loss: 0.0125 - val_loss: 0.0094\n",
      "Epoch 23/30\n",
      "12928/12857 [==============================] - 30s - loss: 0.0120 - val_loss: 0.0083\n",
      "Epoch 24/30\n",
      "12900/12857 [==============================] - 30s - loss: 0.0120 - val_loss: 0.0081\n",
      "Epoch 25/30\n",
      "12928/12857 [==============================] - 30s - loss: 0.0124 - val_loss: 0.0103\n",
      "Epoch 26/30\n",
      "12928/12857 [==============================] - 30s - loss: 0.0120 - val_loss: 0.0088\n",
      "Epoch 27/30\n",
      "12928/12857 [==============================] - 30s - loss: 0.0120 - val_loss: 0.0068\n",
      "Epoch 28/30\n",
      "12900/12857 [==============================] - 30s - loss: 0.0111 - val_loss: 0.0101\n",
      "Epoch 29/30\n",
      "12928/12857 [==============================] - 30s - loss: 0.0115 - val_loss: 0.0088\n",
      "Epoch 30/30\n",
      "12928/12857 [==============================] - 30s - loss: 0.0118 - val_loss: 0.0071\n"
     ]
    },
    {
     "data": {
      "text/plain": [
       "<keras.callbacks.History at 0x7fdfaf11a438>"
      ]
     },
     "execution_count": 30,
     "metadata": {},
     "output_type": "execute_result"
    }
   ],
   "source": [
    "#Define the network\n",
    "model=Sequential()\n",
    "\n",
    "#Normalising the data\n",
    "model.add(Lambda(lambda x: (x /255)-0.5,input_shape=(160,320,3)))\n",
    "\n",
    "#Cropping unwanted pixels off the images\n",
    "model.add(Cropping2D(cropping=((50,20),(0,0))))\n",
    "          \n",
    "model.add(Convolution2D(6,5,5))\n",
    "model.add(Activation('relu'))\n",
    "model.add(MaxPooling2D((2,2)))\n",
    "model.add(Convolution2D(16,5,5))\n",
    "model.add(Activation('relu'))\n",
    "model.add(MaxPooling2D((2,2)))\n",
    "model.add(Flatten())\n",
    "model.add(Dense(120))\n",
    "model.add(Activation('relu'))\n",
    "model.add(Dropout(0.5))\n",
    "model.add(Dense(30))\n",
    "model.add(Activation('relu'))\n",
    "model.add(Dropout(0.5))\n",
    "model.add(Dense(1))\n",
    "\n",
    "model.compile(loss='mse', optimizer='adam')\n",
    "\n",
    "early_stopping=EarlyStopping(patience=5)\n",
    "check_point=ModelCheckpoint('model.h5',save_best_only=True)\n",
    "          \n",
    "model.fit_generator(train_generator, samples_per_epoch= len(train_samples), validation_data=validation_generator,nb_val_samples=len(validation_samples), nb_epoch=30, callbacks=[early_stopping])\n",
    "\n",
    "#model.save('model.h5')"
   ]
  },
  {
   "cell_type": "code",
   "execution_count": null,
   "metadata": {
    "collapsed": true
   },
   "outputs": [],
   "source": []
  }
 ],
 "metadata": {
  "anaconda-cloud": {},
  "kernelspec": {
   "display_name": "Python 3",
   "language": "python",
   "name": "python3"
  },
  "language_info": {
   "codemirror_mode": {
    "name": "ipython",
    "version": 3
   },
   "file_extension": ".py",
   "mimetype": "text/x-python",
   "name": "python",
   "nbconvert_exporter": "python",
   "pygments_lexer": "ipython3",
   "version": "3.5.2"
  },
  "widgets": {
   "state": {},
   "version": "1.1.2"
  }
 },
 "nbformat": 4,
 "nbformat_minor": 2
}
